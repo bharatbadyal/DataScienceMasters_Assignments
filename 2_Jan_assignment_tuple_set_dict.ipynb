{
 "cells": [
  {
   "cell_type": "raw",
   "id": "d59c69cf-bd2e-42fe-9ba0-ef97dd5e8144",
   "metadata": {},
   "source": [
    "Q1. What are the characteristics of the tuples? Is tuple immutable?\n",
    "Ans. Tuples items are ordered, unchangable, and allow duplicate values. Tuples are written using round brackets'()' and are immutable in nature."
   ]
  },
  {
   "cell_type": "raw",
   "id": "a1b276df-2264-42f2-b202-dfa7b6f77a63",
   "metadata": {},
   "source": [
    "Q2.Q2. What are the two tuple methods in python? Give an example of each method. Give a reason why\n",
    "tuples have only two in-built methods as compared to Lists.\n",
    "Ans. count() and index() are two tuple method in python.\n",
    "    :-Tuples have only two in-built methods as compared to lists because tuples are immutable, meaning their values cannot be changed once they are created."
   ]
  },
  {
   "cell_type": "code",
   "execution_count": 2,
   "id": "b7418f6a-3d32-4a74-a969-b567a7140746",
   "metadata": {},
   "outputs": [
    {
     "name": "stdout",
     "output_type": "stream",
     "text": [
      "2\n",
      "1\n"
     ]
    }
   ],
   "source": [
    "# tuple methods examples\n",
    "\n",
    "# count  and index method examples\n",
    "\n",
    "my_tuple = (1, 2, 3, 1, 2, 4, 5)\n",
    "print(my_tuple.count(1)) #using count method\n",
    "print(my_tuple.index(2)) #usinf index method "
   ]
  },
  {
   "cell_type": "raw",
   "id": "81d5a9e4-658e-4074-abf8-827e9a221bb2",
   "metadata": {},
   "source": [
    "Q3.Which collection datatypes in python do not allow duplicate items? Write a code using a set to remove\n",
    "duplicates from the given list.\n",
    "List = [1, 1, 1, 2, 1, 3, 1, 4, 2, 1, 2, 2, 2, 3, 2, 4, 3, 1, 3, 2, 3, 3, 3, 4, 4, 1, 4, 2, 4, 3, 4, 4]"
   ]
  },
  {
   "cell_type": "raw",
   "id": "69c8fd13-bf38-4d71-8e0e-950e9ba12c32",
   "metadata": {},
   "source": [
    "Ans.In Python, the following collection data types do not allow duplicate items:\n",
    "\n",
    "Sets (set)\n",
    "Frozen sets (frozenset)\n",
    "\n",
    "-A set is an unordered collection of unique elements. If we try to add an element that already exists in the set, the set will remain unchanged.\n",
    "\n",
    "-A frozen set is an immutable version of a set. Like a set, a frozen set cannot contain duplicate elements, but once a frozen set is created, its elements cannot be changed."
   ]
  },
  {
   "cell_type": "code",
   "execution_count": 3,
   "id": "d171bc89-0552-4d11-b69d-943190caeabc",
   "metadata": {},
   "outputs": [
    {
     "name": "stdout",
     "output_type": "stream",
     "text": [
      "{1, 2, 3, 4}\n"
     ]
    }
   ],
   "source": [
    "List = [1, 1, 1, 2, 1, 3, 1, 4, 2, 1, 2, 2, 2, 3, 2, 4, 3, 1, 3, 2, 3, 3, 3, 4, 4, 1, 4, 2, 4, 3, 4, 4]\n",
    "list_with_unique_elements = set(List)\n",
    "print(list_with_unique_elements)"
   ]
  },
  {
   "cell_type": "raw",
   "id": "ee0ff91b-3e6b-4e7c-abd8-af780e1f07aa",
   "metadata": {},
   "source": [
    "Q4. Explain the difference between the union() and update() methods for a set. Give an example of\n",
    "each method."
   ]
  },
  {
   "cell_type": "raw",
   "id": "7c973756-8932-4b8e-8a4c-909646548512",
   "metadata": {},
   "source": [
    "Ans.The union() method returns a set that contains all items from the original set and all items from another set (or any iterable). It does not modify the original set.\n",
    "\n",
    "The update() method, on the other hand, adds all items from another set (or any iterable) to the original set. It modifies the original set in-place and does not return anything.\n",
    "\n",
    "In other words, union() returns a new set with the union of the elements, whereas update() adds the union of the elements to the original set."
   ]
  },
  {
   "cell_type": "code",
   "execution_count": 4,
   "id": "987dd5fd-e5ba-44f0-b1dc-d967c9ccbe0a",
   "metadata": {},
   "outputs": [
    {
     "name": "stdout",
     "output_type": "stream",
     "text": [
      "{1, 2, 3, 4, 5}\n"
     ]
    }
   ],
   "source": [
    "# example of union method\n",
    "set1 = {1, 2, 3}\n",
    "set2 = {3, 4, 5}\n",
    "set3 = set1.union(set2)\n",
    "print(set3)"
   ]
  },
  {
   "cell_type": "code",
   "execution_count": 5,
   "id": "bebb1cf7-7e42-4fea-8797-5d4c83146a9d",
   "metadata": {},
   "outputs": [
    {
     "name": "stdout",
     "output_type": "stream",
     "text": [
      "{1, 2, 3, 4, 5}\n"
     ]
    }
   ],
   "source": [
    "# example of update method\n",
    "set1 = {1, 2, 3}\n",
    "set2 = {3, 4, 5}\n",
    "set1.update(set2)\n",
    "print(set1)"
   ]
  },
  {
   "cell_type": "raw",
   "id": "4e6beaad-4084-4f16-b3b8-e7676f275315",
   "metadata": {},
   "source": [
    "Q5. What is a dictionary? Give an example. Also, state whether a dictionary is ordered or unordered."
   ]
  },
  {
   "cell_type": "raw",
   "id": "dba3af8d-bbc4-4aa1-9d00-9c31a4c229e4",
   "metadata": {},
   "source": [
    "Ans.A dictionary is a collection of key-value pairs, where each key is unique and maps to a corresponding value. In Python, dictionaries are defined with curly braces {} and are unordered.\n",
    ":- The dictionaries are unordered, meaning that the items have no intrinsic order, and that order may change from one moment to another. This means that you cannot rely on the order of items in a dictionary"
   ]
  },
  {
   "cell_type": "code",
   "execution_count": 6,
   "id": "cec0aa5f-f8b4-4386-9b9f-ad21df76b166",
   "metadata": {},
   "outputs": [
    {
     "name": "stdout",
     "output_type": "stream",
     "text": [
      "{'name': 'Ram', 'age': 24, 'city': 'Jammu'}\n"
     ]
    }
   ],
   "source": [
    "# Dictonary example\n",
    "my_dict = {'name': 'Ram', 'age': 24, 'city': 'Jammu'}\n",
    "print(my_dict)"
   ]
  },
  {
   "cell_type": "raw",
   "id": "381fb144-3c03-4e74-99c4-de21c828f222",
   "metadata": {},
   "source": [
    "Q6.Can we create a nested dictionary? If so, please give an example by creating a simple one-level\n",
    "nested dictionary."
   ]
  },
  {
   "cell_type": "raw",
   "id": "b195a2b7-d12a-4849-bcfe-de04a257984b",
   "metadata": {},
   "source": [
    "Ans. Yes, dictionaries can be nested. We can create a nested dictionary by having a dictionary as a value for a key in another dictionary."
   ]
  },
  {
   "cell_type": "code",
   "execution_count": 7,
   "id": "cca65f76-29ef-4f4a-b7f2-7baa3bbcc133",
   "metadata": {},
   "outputs": [
    {
     "name": "stdout",
     "output_type": "stream",
     "text": [
      "{'person1': {'name': 'John', 'age': 30, 'city': 'New York'}, 'person2': {'name': 'Jane', 'age': 25, 'city': 'London'}}\n"
     ]
    }
   ],
   "source": [
    "# Example of nested dictonary\n",
    "nested_dict = {'person1': {'name': 'John', 'age': 30, 'city': 'New York'},'person2': {'name': 'Jane', 'age': 25, 'city': 'London'}}\n",
    "print(nested_dict)"
   ]
  },
  {
   "cell_type": "raw",
   "id": "d76fa4b4-df2f-4e14-8a84-b463ba35bd2a",
   "metadata": {},
   "source": [
    "Q7. Using setdefault() method, create key named topics in the given dictionary and also add the value of\n",
    "the key as this list ['Python', 'Machine Learning’, 'Deep Learning']\n",
    "dict1 = {'language' : 'Python', 'course': 'Data Science Masters'}"
   ]
  },
  {
   "cell_type": "code",
   "execution_count": 8,
   "id": "e889fca9-3d14-4fe1-b069-0c4a1629b1d5",
   "metadata": {},
   "outputs": [
    {
     "name": "stdout",
     "output_type": "stream",
     "text": [
      "{'topics': ['Python', 'Machine Learning', 'Deep Learning']}\n"
     ]
    }
   ],
   "source": [
    "my_dict = {}\n",
    "my_dict.setdefault('topics', []).extend(['Python', 'Machine Learning', 'Deep Learning'])\n",
    "print(my_dict)"
   ]
  },
  {
   "cell_type": "raw",
   "id": "c1d86a56-e655-46e5-8991-ba583224f12a",
   "metadata": {},
   "source": [
    "The setdefault() method is a method for dictionaries in Python that allows us to set a default value for a key if that key does not already exist in the dictionary. If the key already exists in the dictionary, it simply returns the value associated with that key.\n"
   ]
  },
  {
   "cell_type": "raw",
   "id": "163d6349-c0c7-49c4-98fd-f3953d97ca14",
   "metadata": {},
   "source": [
    "Q8. What are the three view objects in dictionaries? Use the three in-built methods in python to display\n",
    "these three view objects for the given dictionary."
   ]
  },
  {
   "cell_type": "code",
   "execution_count": null,
   "id": "3f6607af-a0cb-4f87-a6cd-28adefd10161",
   "metadata": {},
   "outputs": [],
   "source": [
    ">>> dict1 = {'Sport': 'Cricket' , 'Teams': ['India', 'Australia', 'England', 'South Africa', 'Sri Lanka', 'New Zealand']}\n",
    "print(dict1.keys())\n",
    "dict_keys(['Sport', 'Teams'])\n",
    "print(dict1.values())\n",
    "dict_values(['Cricket', ['India', 'Australia', 'England', 'South Africa', 'Sri Lanka', 'New Zealand']])\n",
    "print(dict1.items())\n",
    "dict_items([('Sport', 'Cricket'), ('Teams', ['India', 'Australia', 'England', 'South Africa', 'Sri Lanka', 'New Zealand'])])\n"
   ]
  }
 ],
 "metadata": {
  "kernelspec": {
   "display_name": "Python 3 (ipykernel)",
   "language": "python",
   "name": "python3"
  },
  "language_info": {
   "codemirror_mode": {
    "name": "ipython",
    "version": 3
   },
   "file_extension": ".py",
   "mimetype": "text/x-python",
   "name": "python",
   "nbconvert_exporter": "python",
   "pygments_lexer": "ipython3",
   "version": "3.10.8"
  }
 },
 "nbformat": 4,
 "nbformat_minor": 5
}
